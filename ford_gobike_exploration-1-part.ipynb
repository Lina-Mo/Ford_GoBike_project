{
 "cells": [
  {
   "cell_type": "markdown",
   "metadata": {},
   "source": [
    "# Ford GoBike System Data\n",
    "## by Lina Montrimaite\n",
    "\n",
    "## Preliminary Wrangling\n",
    "\n",
    "> This data set includes information about individual rides made\n",
    "in a bike-sharing system covering the greater San Francisco\n",
    "Bay area."
   ]
  },
  {
   "cell_type": "code",
   "execution_count": 1,
   "metadata": {},
   "outputs": [],
   "source": [
    "# import all packages and set plots to be embedded inline\n",
    "import numpy as np\n",
    "import pandas as pd\n",
    "import matplotlib.pyplot as plt\n",
    "import seaborn as sb\n",
    "import os\n",
    "import glob\n",
    "from math import sin, cos, sqrt, atan2, radians\n",
    "glob.glob('/pycharm/*') \n",
    "\n",
    "%matplotlib inline"
   ]
  },
  {
   "cell_type": "code",
   "execution_count": 2,
   "metadata": {},
   "outputs": [],
   "source": [
    "path = r'/Users/lina/Documents/GitHub/Ford_GoBikes project/Data'\n",
    "files = glob.glob(os.path.join(path, \"*.csv\"))\n",
    "df = pd.concat((pd.read_csv(f) for f in files), ignore_index = True)\n",
    "df.to_csv('fordgo_master.csv', index = False)"
   ]
  },
  {
   "cell_type": "code",
   "execution_count": 3,
   "metadata": {},
   "outputs": [],
   "source": [
    "ford_gobike = pd.read_csv('fordgo_master.csv')"
   ]
  },
  {
   "cell_type": "code",
   "execution_count": 4,
   "metadata": {
    "scrolled": true
   },
   "outputs": [
    {
     "data": {
      "text/html": [
       "<div>\n",
       "<style scoped>\n",
       "    .dataframe tbody tr th:only-of-type {\n",
       "        vertical-align: middle;\n",
       "    }\n",
       "\n",
       "    .dataframe tbody tr th {\n",
       "        vertical-align: top;\n",
       "    }\n",
       "\n",
       "    .dataframe thead th {\n",
       "        text-align: right;\n",
       "    }\n",
       "</style>\n",
       "<table border=\"1\" class=\"dataframe\">\n",
       "  <thead>\n",
       "    <tr style=\"text-align: right;\">\n",
       "      <th></th>\n",
       "      <th>duration_sec</th>\n",
       "      <th>start_time</th>\n",
       "      <th>end_time</th>\n",
       "      <th>start_station_id</th>\n",
       "      <th>start_station_name</th>\n",
       "      <th>start_station_latitude</th>\n",
       "      <th>start_station_longitude</th>\n",
       "      <th>end_station_id</th>\n",
       "      <th>end_station_name</th>\n",
       "      <th>end_station_latitude</th>\n",
       "      <th>end_station_longitude</th>\n",
       "      <th>bike_id</th>\n",
       "      <th>user_type</th>\n",
       "      <th>member_birth_year</th>\n",
       "      <th>member_gender</th>\n",
       "      <th>bike_share_for_all_trip</th>\n",
       "    </tr>\n",
       "  </thead>\n",
       "  <tbody>\n",
       "    <tr>\n",
       "      <th>0</th>\n",
       "      <td>79489</td>\n",
       "      <td>2018-11-30 13:40:32.7690</td>\n",
       "      <td>2018-12-01 11:45:21.9720</td>\n",
       "      <td>NaN</td>\n",
       "      <td>NaN</td>\n",
       "      <td>37.420000</td>\n",
       "      <td>-121.940000</td>\n",
       "      <td>NaN</td>\n",
       "      <td>NaN</td>\n",
       "      <td>37.410000</td>\n",
       "      <td>-121.940000</td>\n",
       "      <td>4105</td>\n",
       "      <td>Customer</td>\n",
       "      <td>1982.0</td>\n",
       "      <td>Female</td>\n",
       "      <td>No</td>\n",
       "    </tr>\n",
       "    <tr>\n",
       "      <th>1</th>\n",
       "      <td>42847</td>\n",
       "      <td>2018-11-30 20:13:45.5090</td>\n",
       "      <td>2018-12-01 08:07:53.1330</td>\n",
       "      <td>37.0</td>\n",
       "      <td>2nd St at Folsom St</td>\n",
       "      <td>37.785000</td>\n",
       "      <td>-122.395936</td>\n",
       "      <td>30.0</td>\n",
       "      <td>San Francisco Caltrain (Townsend St at 4th St)</td>\n",
       "      <td>37.776598</td>\n",
       "      <td>-122.395282</td>\n",
       "      <td>2614</td>\n",
       "      <td>Customer</td>\n",
       "      <td>1992.0</td>\n",
       "      <td>Male</td>\n",
       "      <td>No</td>\n",
       "    </tr>\n",
       "    <tr>\n",
       "      <th>2</th>\n",
       "      <td>1128</td>\n",
       "      <td>2018-11-30 23:58:26.4310</td>\n",
       "      <td>2018-12-01 00:17:14.4880</td>\n",
       "      <td>249.0</td>\n",
       "      <td>Russell St at College Ave</td>\n",
       "      <td>37.858473</td>\n",
       "      <td>-122.253253</td>\n",
       "      <td>249.0</td>\n",
       "      <td>Russell St at College Ave</td>\n",
       "      <td>37.858473</td>\n",
       "      <td>-122.253253</td>\n",
       "      <td>1496</td>\n",
       "      <td>Subscriber</td>\n",
       "      <td>1998.0</td>\n",
       "      <td>Male</td>\n",
       "      <td>Yes</td>\n",
       "    </tr>\n",
       "    <tr>\n",
       "      <th>3</th>\n",
       "      <td>2476</td>\n",
       "      <td>2018-11-30 23:35:06.7230</td>\n",
       "      <td>2018-12-01 00:16:23.4740</td>\n",
       "      <td>104.0</td>\n",
       "      <td>4th St at 16th St</td>\n",
       "      <td>37.767045</td>\n",
       "      <td>-122.390833</td>\n",
       "      <td>15.0</td>\n",
       "      <td>San Francisco Ferry Building (Harry Bridges Pl...</td>\n",
       "      <td>37.795392</td>\n",
       "      <td>-122.394203</td>\n",
       "      <td>1334</td>\n",
       "      <td>Subscriber</td>\n",
       "      <td>1959.0</td>\n",
       "      <td>Male</td>\n",
       "      <td>No</td>\n",
       "    </tr>\n",
       "    <tr>\n",
       "      <th>4</th>\n",
       "      <td>1273</td>\n",
       "      <td>2018-11-30 23:54:12.3890</td>\n",
       "      <td>2018-12-01 00:15:26.3680</td>\n",
       "      <td>44.0</td>\n",
       "      <td>Civic Center/UN Plaza BART Station (Market St ...</td>\n",
       "      <td>37.781074</td>\n",
       "      <td>-122.411738</td>\n",
       "      <td>60.0</td>\n",
       "      <td>8th St at Ringold St</td>\n",
       "      <td>37.774520</td>\n",
       "      <td>-122.409449</td>\n",
       "      <td>393</td>\n",
       "      <td>Subscriber</td>\n",
       "      <td>1993.0</td>\n",
       "      <td>Female</td>\n",
       "      <td>Yes</td>\n",
       "    </tr>\n",
       "  </tbody>\n",
       "</table>\n",
       "</div>"
      ],
      "text/plain": [
       "   duration_sec                start_time                  end_time  \\\n",
       "0         79489  2018-11-30 13:40:32.7690  2018-12-01 11:45:21.9720   \n",
       "1         42847  2018-11-30 20:13:45.5090  2018-12-01 08:07:53.1330   \n",
       "2          1128  2018-11-30 23:58:26.4310  2018-12-01 00:17:14.4880   \n",
       "3          2476  2018-11-30 23:35:06.7230  2018-12-01 00:16:23.4740   \n",
       "4          1273  2018-11-30 23:54:12.3890  2018-12-01 00:15:26.3680   \n",
       "\n",
       "   start_station_id                                 start_station_name  \\\n",
       "0               NaN                                                NaN   \n",
       "1              37.0                                2nd St at Folsom St   \n",
       "2             249.0                          Russell St at College Ave   \n",
       "3             104.0                                  4th St at 16th St   \n",
       "4              44.0  Civic Center/UN Plaza BART Station (Market St ...   \n",
       "\n",
       "   start_station_latitude  start_station_longitude  end_station_id  \\\n",
       "0               37.420000              -121.940000             NaN   \n",
       "1               37.785000              -122.395936            30.0   \n",
       "2               37.858473              -122.253253           249.0   \n",
       "3               37.767045              -122.390833            15.0   \n",
       "4               37.781074              -122.411738            60.0   \n",
       "\n",
       "                                    end_station_name  end_station_latitude  \\\n",
       "0                                                NaN             37.410000   \n",
       "1     San Francisco Caltrain (Townsend St at 4th St)             37.776598   \n",
       "2                          Russell St at College Ave             37.858473   \n",
       "3  San Francisco Ferry Building (Harry Bridges Pl...             37.795392   \n",
       "4                               8th St at Ringold St             37.774520   \n",
       "\n",
       "   end_station_longitude  bike_id   user_type  member_birth_year  \\\n",
       "0            -121.940000     4105    Customer             1982.0   \n",
       "1            -122.395282     2614    Customer             1992.0   \n",
       "2            -122.253253     1496  Subscriber             1998.0   \n",
       "3            -122.394203     1334  Subscriber             1959.0   \n",
       "4            -122.409449      393  Subscriber             1993.0   \n",
       "\n",
       "  member_gender bike_share_for_all_trip  \n",
       "0        Female                      No  \n",
       "1          Male                      No  \n",
       "2          Male                     Yes  \n",
       "3          Male                      No  \n",
       "4        Female                     Yes  "
      ]
     },
     "execution_count": 4,
     "metadata": {},
     "output_type": "execute_result"
    }
   ],
   "source": [
    "# review the dataset\n",
    "ford_gobike.head()"
   ]
  },
  {
   "cell_type": "code",
   "execution_count": 5,
   "metadata": {},
   "outputs": [
    {
     "name": "stdout",
     "output_type": "stream",
     "text": [
      "(2290554, 16)\n",
      "duration_sec                 int64\n",
      "start_time                  object\n",
      "end_time                    object\n",
      "start_station_id           float64\n",
      "start_station_name          object\n",
      "start_station_latitude     float64\n",
      "start_station_longitude    float64\n",
      "end_station_id             float64\n",
      "end_station_name            object\n",
      "end_station_latitude       float64\n",
      "end_station_longitude      float64\n",
      "bike_id                      int64\n",
      "user_type                   object\n",
      "member_birth_year          float64\n",
      "member_gender               object\n",
      "bike_share_for_all_trip     object\n",
      "dtype: object\n"
     ]
    }
   ],
   "source": [
    "# overview of data shape and composition\n",
    "print(ford_gobike.shape)\n",
    "print(ford_gobike.dtypes)"
   ]
  },
  {
   "cell_type": "code",
   "execution_count": 6,
   "metadata": {},
   "outputs": [
    {
     "name": "stdout",
     "output_type": "stream",
     "text": [
      "       duration_sec  start_station_id  start_station_latitude  \\\n",
      "count  2.290554e+06      2.278053e+06            2.290554e+06   \n",
      "mean   8.227953e+02      1.285395e+02            3.776870e+01   \n",
      "std    2.150612e+03      1.070669e+02            1.060228e-01   \n",
      "min    6.100000e+01      3.000000e+00            0.000000e+00   \n",
      "25%    3.440000e+02      3.900000e+01            3.777041e+01   \n",
      "50%    5.490000e+02      9.300000e+01            3.778101e+01   \n",
      "75%    8.620000e+02      2.000000e+02            3.779728e+01   \n",
      "max    8.628100e+04      4.200000e+02            4.551000e+01   \n",
      "\n",
      "       start_station_longitude  end_station_id  end_station_latitude  \\\n",
      "count             2.290554e+06    2.278053e+06          2.290554e+06   \n",
      "mean             -1.223510e+02    1.271802e+02          3.776855e+01   \n",
      "std               1.759334e-01    1.071313e+02          1.476720e-01   \n",
      "min              -1.224737e+02    3.000000e+00          0.000000e+00   \n",
      "25%              -1.224117e+02    3.600000e+01          3.777106e+01   \n",
      "50%              -1.223974e+02    9.200000e+01          3.778107e+01   \n",
      "75%              -1.222887e+02    2.000000e+02          3.779728e+01   \n",
      "max               0.000000e+00    4.200000e+02          4.551000e+01   \n",
      "\n",
      "       end_station_longitude       bike_id  member_birth_year  \n",
      "count           2.290554e+06  2.290554e+06       2.173273e+06  \n",
      "mean           -1.223497e+02  3.100543e+03       1.983983e+03  \n",
      "std             3.767534e-01  1.813624e+03       1.024413e+01  \n",
      "min            -1.224737e+02  1.100000e+01       1.878000e+03  \n",
      "25%            -1.224113e+02  1.595000e+03       1.979000e+03  \n",
      "50%            -1.223971e+02  3.045000e+03       1.986000e+03  \n",
      "75%            -1.222902e+02  4.526000e+03       1.991000e+03  \n",
      "max             0.000000e+00  7.108000e+03       2.001000e+03  \n"
     ]
    }
   ],
   "source": [
    "# descriptive statistics for numeric variables\n",
    "print(ford_gobike.describe())"
   ]
  },
  {
   "cell_type": "code",
   "execution_count": 7,
   "metadata": {},
   "outputs": [
    {
     "data": {
      "text/plain": [
       "duration_sec                    0\n",
       "start_time                      0\n",
       "end_time                        0\n",
       "start_station_id            12501\n",
       "start_station_name          12501\n",
       "start_station_latitude          0\n",
       "start_station_longitude         0\n",
       "end_station_id              12501\n",
       "end_station_name            12501\n",
       "end_station_latitude            0\n",
       "end_station_longitude           0\n",
       "bike_id                         0\n",
       "user_type                       0\n",
       "member_birth_year          117281\n",
       "member_gender              117075\n",
       "bike_share_for_all_trip         0\n",
       "dtype: int64"
      ]
     },
     "execution_count": 7,
     "metadata": {},
     "output_type": "execute_result"
    }
   ],
   "source": [
    "# review the nan values\n",
    "ford_gobike.isna().sum()"
   ]
  },
  {
   "cell_type": "code",
   "execution_count": 8,
   "metadata": {},
   "outputs": [
    {
     "data": {
      "text/plain": [
       "duration_sec               0\n",
       "start_time                 0\n",
       "end_time                   0\n",
       "start_station_id           0\n",
       "start_station_name         0\n",
       "start_station_latitude     0\n",
       "start_station_longitude    0\n",
       "end_station_id             0\n",
       "end_station_name           0\n",
       "end_station_latitude       0\n",
       "end_station_longitude      0\n",
       "bike_id                    0\n",
       "user_type                  0\n",
       "member_birth_year          0\n",
       "member_gender              0\n",
       "bike_share_for_all_trip    0\n",
       "dtype: int64"
      ]
     },
     "execution_count": 8,
     "metadata": {},
     "output_type": "execute_result"
    }
   ],
   "source": [
    "# drop the rows that do not have any values as it includes just 4.6% of the dataset\n",
    "ford_gobike.dropna(inplace=True)\n",
    "ford_gobike.isna().sum()"
   ]
  },
  {
   "cell_type": "code",
   "execution_count": 9,
   "metadata": {},
   "outputs": [
    {
     "name": "stdout",
     "output_type": "stream",
     "text": [
      "(2161106, 16)\n"
     ]
    }
   ],
   "source": [
    "# get the shape of the dataset\n",
    "print(ford_gobike.shape)"
   ]
  },
  {
   "cell_type": "code",
   "execution_count": 10,
   "metadata": {},
   "outputs": [
    {
     "data": {
      "text/html": [
       "<div>\n",
       "<style scoped>\n",
       "    .dataframe tbody tr th:only-of-type {\n",
       "        vertical-align: middle;\n",
       "    }\n",
       "\n",
       "    .dataframe tbody tr th {\n",
       "        vertical-align: top;\n",
       "    }\n",
       "\n",
       "    .dataframe thead th {\n",
       "        text-align: right;\n",
       "    }\n",
       "</style>\n",
       "<table border=\"1\" class=\"dataframe\">\n",
       "  <thead>\n",
       "    <tr style=\"text-align: right;\">\n",
       "      <th></th>\n",
       "      <th>duration_sec</th>\n",
       "      <th>start_time</th>\n",
       "      <th>end_time</th>\n",
       "      <th>start_station_id</th>\n",
       "      <th>start_station_name</th>\n",
       "      <th>start_station_latitude</th>\n",
       "      <th>start_station_longitude</th>\n",
       "      <th>end_station_id</th>\n",
       "      <th>end_station_name</th>\n",
       "      <th>end_station_latitude</th>\n",
       "      <th>end_station_longitude</th>\n",
       "      <th>bike_id</th>\n",
       "      <th>user_type</th>\n",
       "      <th>member_birth_year</th>\n",
       "      <th>member_gender</th>\n",
       "      <th>bike_share_for_all_trip</th>\n",
       "    </tr>\n",
       "  </thead>\n",
       "  <tbody>\n",
       "  </tbody>\n",
       "</table>\n",
       "</div>"
      ],
      "text/plain": [
       "Empty DataFrame\n",
       "Columns: [duration_sec, start_time, end_time, start_station_id, start_station_name, start_station_latitude, start_station_longitude, end_station_id, end_station_name, end_station_latitude, end_station_longitude, bike_id, user_type, member_birth_year, member_gender, bike_share_for_all_trip]\n",
       "Index: []"
      ]
     },
     "execution_count": 10,
     "metadata": {},
     "output_type": "execute_result"
    }
   ],
   "source": [
    "# check duplicated row\n",
    "ford_gobike[ford_gobike.duplicated()]"
   ]
  },
  {
   "cell_type": "markdown",
   "metadata": {},
   "source": [
    "### What is the structure of your dataset?\n",
    "\n",
    "> The dataset recorded Ford GoBike's bike-sharing service in the greater SF Bay area. Each record is an individual ride which consists of 16 features, such as duration, ride start/end time, start and end station id/name, start/end station coordinates, bikes id, user type, member birth year, member age, gender,  and bike share for all trips. \n",
    "For this analysis I have selectected one year period from 2018-05 until 2019-04, that contains 2,161,106 bike trips.\n",
    "\n",
    "\n",
    "### What is/are the main feature(s) of interest in your dataset?\n",
    "\n",
    "> - When are most trips taken in terms of time of hour, weekday or month of the year?\n",
    "> - Who are the customers of Ford GoBikes by age, gender and type?\n",
    "> - How do the bike trips usually look by trip duration, distance and speed?\n",
    "\n",
    "### What features in the dataset do you think will help support your investigation into your feature(s) of interest?\n",
    "\n",
    "> I will be concentrated on three groups of features, such as TIME (hours, weekdays, moths), USER (age, gender, type) and TRAVEL (duration, distance, speed). "
   ]
  },
  {
   "cell_type": "markdown",
   "metadata": {},
   "source": [
    "## Data Wrangling and creating new variables\n",
    "\n",
    "- Convert the duration in seconds to minutes\n",
    "- Delete values where the station id is null\n",
    "- Convert the end and start station id to int\n",
    "- Convert the Start time and End time to timestamps\n",
    "- Get the start time hour from start time\n",
    "- Divide the start_time and end_time to separated columns start_date, start_time, end_date and end_date\n",
    "- Extract the month column from start date\n",
    "- Get the weekdays column from start time\n",
    "- Get customer age on the trip day\n",
    "- Calculate approx trip duration by latitude and longtitude\n",
    "- Calculate approx trip speed km/h\n",
    "- Create users age groups column\n",
    "- Drop unneccassary variables\n",
    "- Create cleaned and adjusted new csv file"
   ]
  },
  {
   "cell_type": "markdown",
   "metadata": {},
   "source": [
    "##### Convert the duration in seconds to hours"
   ]
  },
  {
   "cell_type": "code",
   "execution_count": 11,
   "metadata": {
    "scrolled": false
   },
   "outputs": [
    {
     "data": {
      "text/html": [
       "<div>\n",
       "<style scoped>\n",
       "    .dataframe tbody tr th:only-of-type {\n",
       "        vertical-align: middle;\n",
       "    }\n",
       "\n",
       "    .dataframe tbody tr th {\n",
       "        vertical-align: top;\n",
       "    }\n",
       "\n",
       "    .dataframe thead th {\n",
       "        text-align: right;\n",
       "    }\n",
       "</style>\n",
       "<table border=\"1\" class=\"dataframe\">\n",
       "  <thead>\n",
       "    <tr style=\"text-align: right;\">\n",
       "      <th></th>\n",
       "      <th>duration_sec</th>\n",
       "      <th>start_time</th>\n",
       "      <th>end_time</th>\n",
       "      <th>start_station_id</th>\n",
       "      <th>start_station_name</th>\n",
       "      <th>start_station_latitude</th>\n",
       "      <th>start_station_longitude</th>\n",
       "      <th>end_station_id</th>\n",
       "      <th>end_station_name</th>\n",
       "      <th>end_station_latitude</th>\n",
       "      <th>end_station_longitude</th>\n",
       "      <th>bike_id</th>\n",
       "      <th>user_type</th>\n",
       "      <th>member_birth_year</th>\n",
       "      <th>member_gender</th>\n",
       "      <th>bike_share_for_all_trip</th>\n",
       "      <th>duration_min</th>\n",
       "    </tr>\n",
       "  </thead>\n",
       "  <tbody>\n",
       "    <tr>\n",
       "      <th>1</th>\n",
       "      <td>42847</td>\n",
       "      <td>2018-11-30 20:13:45.5090</td>\n",
       "      <td>2018-12-01 08:07:53.1330</td>\n",
       "      <td>37.0</td>\n",
       "      <td>2nd St at Folsom St</td>\n",
       "      <td>37.785000</td>\n",
       "      <td>-122.395936</td>\n",
       "      <td>30.0</td>\n",
       "      <td>San Francisco Caltrain (Townsend St at 4th St)</td>\n",
       "      <td>37.776598</td>\n",
       "      <td>-122.395282</td>\n",
       "      <td>2614</td>\n",
       "      <td>Customer</td>\n",
       "      <td>1992.0</td>\n",
       "      <td>Male</td>\n",
       "      <td>No</td>\n",
       "      <td>714.116667</td>\n",
       "    </tr>\n",
       "    <tr>\n",
       "      <th>2</th>\n",
       "      <td>1128</td>\n",
       "      <td>2018-11-30 23:58:26.4310</td>\n",
       "      <td>2018-12-01 00:17:14.4880</td>\n",
       "      <td>249.0</td>\n",
       "      <td>Russell St at College Ave</td>\n",
       "      <td>37.858473</td>\n",
       "      <td>-122.253253</td>\n",
       "      <td>249.0</td>\n",
       "      <td>Russell St at College Ave</td>\n",
       "      <td>37.858473</td>\n",
       "      <td>-122.253253</td>\n",
       "      <td>1496</td>\n",
       "      <td>Subscriber</td>\n",
       "      <td>1998.0</td>\n",
       "      <td>Male</td>\n",
       "      <td>Yes</td>\n",
       "      <td>18.800000</td>\n",
       "    </tr>\n",
       "    <tr>\n",
       "      <th>3</th>\n",
       "      <td>2476</td>\n",
       "      <td>2018-11-30 23:35:06.7230</td>\n",
       "      <td>2018-12-01 00:16:23.4740</td>\n",
       "      <td>104.0</td>\n",
       "      <td>4th St at 16th St</td>\n",
       "      <td>37.767045</td>\n",
       "      <td>-122.390833</td>\n",
       "      <td>15.0</td>\n",
       "      <td>San Francisco Ferry Building (Harry Bridges Pl...</td>\n",
       "      <td>37.795392</td>\n",
       "      <td>-122.394203</td>\n",
       "      <td>1334</td>\n",
       "      <td>Subscriber</td>\n",
       "      <td>1959.0</td>\n",
       "      <td>Male</td>\n",
       "      <td>No</td>\n",
       "      <td>41.266667</td>\n",
       "    </tr>\n",
       "    <tr>\n",
       "      <th>4</th>\n",
       "      <td>1273</td>\n",
       "      <td>2018-11-30 23:54:12.3890</td>\n",
       "      <td>2018-12-01 00:15:26.3680</td>\n",
       "      <td>44.0</td>\n",
       "      <td>Civic Center/UN Plaza BART Station (Market St ...</td>\n",
       "      <td>37.781074</td>\n",
       "      <td>-122.411738</td>\n",
       "      <td>60.0</td>\n",
       "      <td>8th St at Ringold St</td>\n",
       "      <td>37.774520</td>\n",
       "      <td>-122.409449</td>\n",
       "      <td>393</td>\n",
       "      <td>Subscriber</td>\n",
       "      <td>1993.0</td>\n",
       "      <td>Female</td>\n",
       "      <td>Yes</td>\n",
       "      <td>21.216667</td>\n",
       "    </tr>\n",
       "    <tr>\n",
       "      <th>5</th>\n",
       "      <td>2264</td>\n",
       "      <td>2018-11-30 23:32:51.3200</td>\n",
       "      <td>2018-12-01 00:10:35.8310</td>\n",
       "      <td>92.0</td>\n",
       "      <td>Mission Bay Kids Park</td>\n",
       "      <td>37.772301</td>\n",
       "      <td>-122.393028</td>\n",
       "      <td>34.0</td>\n",
       "      <td>Father Alfred E Boeddeker Park</td>\n",
       "      <td>37.783988</td>\n",
       "      <td>-122.412408</td>\n",
       "      <td>4377</td>\n",
       "      <td>Subscriber</td>\n",
       "      <td>1972.0</td>\n",
       "      <td>Male</td>\n",
       "      <td>Yes</td>\n",
       "      <td>37.733333</td>\n",
       "    </tr>\n",
       "  </tbody>\n",
       "</table>\n",
       "</div>"
      ],
      "text/plain": [
       "   duration_sec                start_time                  end_time  \\\n",
       "1         42847  2018-11-30 20:13:45.5090  2018-12-01 08:07:53.1330   \n",
       "2          1128  2018-11-30 23:58:26.4310  2018-12-01 00:17:14.4880   \n",
       "3          2476  2018-11-30 23:35:06.7230  2018-12-01 00:16:23.4740   \n",
       "4          1273  2018-11-30 23:54:12.3890  2018-12-01 00:15:26.3680   \n",
       "5          2264  2018-11-30 23:32:51.3200  2018-12-01 00:10:35.8310   \n",
       "\n",
       "   start_station_id                                 start_station_name  \\\n",
       "1              37.0                                2nd St at Folsom St   \n",
       "2             249.0                          Russell St at College Ave   \n",
       "3             104.0                                  4th St at 16th St   \n",
       "4              44.0  Civic Center/UN Plaza BART Station (Market St ...   \n",
       "5              92.0                              Mission Bay Kids Park   \n",
       "\n",
       "   start_station_latitude  start_station_longitude  end_station_id  \\\n",
       "1               37.785000              -122.395936            30.0   \n",
       "2               37.858473              -122.253253           249.0   \n",
       "3               37.767045              -122.390833            15.0   \n",
       "4               37.781074              -122.411738            60.0   \n",
       "5               37.772301              -122.393028            34.0   \n",
       "\n",
       "                                    end_station_name  end_station_latitude  \\\n",
       "1     San Francisco Caltrain (Townsend St at 4th St)             37.776598   \n",
       "2                          Russell St at College Ave             37.858473   \n",
       "3  San Francisco Ferry Building (Harry Bridges Pl...             37.795392   \n",
       "4                               8th St at Ringold St             37.774520   \n",
       "5                     Father Alfred E Boeddeker Park             37.783988   \n",
       "\n",
       "   end_station_longitude  bike_id   user_type  member_birth_year  \\\n",
       "1            -122.395282     2614    Customer             1992.0   \n",
       "2            -122.253253     1496  Subscriber             1998.0   \n",
       "3            -122.394203     1334  Subscriber             1959.0   \n",
       "4            -122.409449      393  Subscriber             1993.0   \n",
       "5            -122.412408     4377  Subscriber             1972.0   \n",
       "\n",
       "  member_gender bike_share_for_all_trip  duration_min  \n",
       "1          Male                      No    714.116667  \n",
       "2          Male                     Yes     18.800000  \n",
       "3          Male                      No     41.266667  \n",
       "4        Female                     Yes     21.216667  \n",
       "5          Male                     Yes     37.733333  "
      ]
     },
     "execution_count": 11,
     "metadata": {},
     "output_type": "execute_result"
    }
   ],
   "source": [
    "# code\n",
    "ford_gobike['duration_min']= ford_gobike['duration_sec']/60\n",
    "ford_gobike['duration_min']= ford_gobike['duration_min'].astype(float)\n",
    "# test\n",
    "ford_gobike.head()"
   ]
  },
  {
   "cell_type": "markdown",
   "metadata": {},
   "source": [
    "##### Delete values where the station id is null"
   ]
  },
  {
   "cell_type": "code",
   "execution_count": 12,
   "metadata": {},
   "outputs": [
    {
     "data": {
      "text/html": [
       "<div>\n",
       "<style scoped>\n",
       "    .dataframe tbody tr th:only-of-type {\n",
       "        vertical-align: middle;\n",
       "    }\n",
       "\n",
       "    .dataframe tbody tr th {\n",
       "        vertical-align: top;\n",
       "    }\n",
       "\n",
       "    .dataframe thead th {\n",
       "        text-align: right;\n",
       "    }\n",
       "</style>\n",
       "<table border=\"1\" class=\"dataframe\">\n",
       "  <thead>\n",
       "    <tr style=\"text-align: right;\">\n",
       "      <th></th>\n",
       "      <th>duration_sec</th>\n",
       "      <th>start_time</th>\n",
       "      <th>end_time</th>\n",
       "      <th>start_station_id</th>\n",
       "      <th>start_station_name</th>\n",
       "      <th>start_station_latitude</th>\n",
       "      <th>start_station_longitude</th>\n",
       "      <th>end_station_id</th>\n",
       "      <th>end_station_name</th>\n",
       "      <th>end_station_latitude</th>\n",
       "      <th>end_station_longitude</th>\n",
       "      <th>bike_id</th>\n",
       "      <th>user_type</th>\n",
       "      <th>member_birth_year</th>\n",
       "      <th>member_gender</th>\n",
       "      <th>bike_share_for_all_trip</th>\n",
       "      <th>duration_min</th>\n",
       "    </tr>\n",
       "  </thead>\n",
       "  <tbody>\n",
       "  </tbody>\n",
       "</table>\n",
       "</div>"
      ],
      "text/plain": [
       "Empty DataFrame\n",
       "Columns: [duration_sec, start_time, end_time, start_station_id, start_station_name, start_station_latitude, start_station_longitude, end_station_id, end_station_name, end_station_latitude, end_station_longitude, bike_id, user_type, member_birth_year, member_gender, bike_share_for_all_trip, duration_min]\n",
       "Index: []"
      ]
     },
     "execution_count": 12,
     "metadata": {},
     "output_type": "execute_result"
    }
   ],
   "source": [
    "# code\n",
    "ford_gobike[ford_gobike['start_station_id'].isna()]\n",
    "ford_gobike.dropna(subset = ['start_station_id'], inplace=True)\n",
    "# test\n",
    "ford_gobike[ford_gobike['start_station_id'].isna()]"
   ]
  },
  {
   "cell_type": "markdown",
   "metadata": {},
   "source": [
    "##### Convert the Start time and End time to timestamps"
   ]
  },
  {
   "cell_type": "code",
   "execution_count": 13,
   "metadata": {},
   "outputs": [
    {
     "name": "stdout",
     "output_type": "stream",
     "text": [
      "<class 'pandas.core.frame.DataFrame'>\n",
      "Int64Index: 2161106 entries, 1 to 2290553\n",
      "Data columns (total 17 columns):\n",
      " #   Column                   Dtype         \n",
      "---  ------                   -----         \n",
      " 0   duration_sec             int64         \n",
      " 1   start_time               datetime64[ns]\n",
      " 2   end_time                 datetime64[ns]\n",
      " 3   start_station_id         float64       \n",
      " 4   start_station_name       object        \n",
      " 5   start_station_latitude   float64       \n",
      " 6   start_station_longitude  float64       \n",
      " 7   end_station_id           float64       \n",
      " 8   end_station_name         object        \n",
      " 9   end_station_latitude     float64       \n",
      " 10  end_station_longitude    float64       \n",
      " 11  bike_id                  int64         \n",
      " 12  user_type                object        \n",
      " 13  member_birth_year        float64       \n",
      " 14  member_gender            object        \n",
      " 15  bike_share_for_all_trip  object        \n",
      " 16  duration_min             float64       \n",
      "dtypes: datetime64[ns](2), float64(8), int64(2), object(5)\n",
      "memory usage: 296.8+ MB\n"
     ]
    }
   ],
   "source": [
    "# code\n",
    "ford_gobike.start_time = pd.to_datetime(ford_gobike.start_time)\n",
    "ford_gobike.end_time = pd.to_datetime(ford_gobike.start_time)\n",
    "#test\n",
    "ford_gobike.info()"
   ]
  },
  {
   "cell_type": "markdown",
   "metadata": {},
   "source": [
    "##### Get the start time hour from start time"
   ]
  },
  {
   "cell_type": "code",
   "execution_count": 14,
   "metadata": {},
   "outputs": [
    {
     "data": {
      "text/plain": [
       "array([20, 23, 21, 22, 19, 18, 17, 16, 15, 10, 14, 11, 13, 12,  9,  8,  7,\n",
       "        6,  5,  4,  3,  2,  1,  0])"
      ]
     },
     "execution_count": 14,
     "metadata": {},
     "output_type": "execute_result"
    }
   ],
   "source": [
    "# code\n",
    "ford_gobike['start_hour'] = ford_gobike['start_time'].dt.hour\n",
    "# test\n",
    "ford_gobike['start_hour'].unique()"
   ]
  },
  {
   "cell_type": "markdown",
   "metadata": {},
   "source": [
    "##### Divide the start_time and end_time to separated  columns start_date, start_time, end_date and end_date"
   ]
  },
  {
   "cell_type": "code",
   "execution_count": 15,
   "metadata": {},
   "outputs": [
    {
     "data": {
      "text/html": [
       "<div>\n",
       "<style scoped>\n",
       "    .dataframe tbody tr th:only-of-type {\n",
       "        vertical-align: middle;\n",
       "    }\n",
       "\n",
       "    .dataframe tbody tr th {\n",
       "        vertical-align: top;\n",
       "    }\n",
       "\n",
       "    .dataframe thead th {\n",
       "        text-align: right;\n",
       "    }\n",
       "</style>\n",
       "<table border=\"1\" class=\"dataframe\">\n",
       "  <thead>\n",
       "    <tr style=\"text-align: right;\">\n",
       "      <th></th>\n",
       "      <th>duration_sec</th>\n",
       "      <th>start_time</th>\n",
       "      <th>end_time</th>\n",
       "      <th>start_station_id</th>\n",
       "      <th>start_station_name</th>\n",
       "      <th>start_station_latitude</th>\n",
       "      <th>start_station_longitude</th>\n",
       "      <th>end_station_id</th>\n",
       "      <th>end_station_name</th>\n",
       "      <th>end_station_latitude</th>\n",
       "      <th>end_station_longitude</th>\n",
       "      <th>bike_id</th>\n",
       "      <th>user_type</th>\n",
       "      <th>member_birth_year</th>\n",
       "      <th>member_gender</th>\n",
       "      <th>bike_share_for_all_trip</th>\n",
       "      <th>duration_min</th>\n",
       "      <th>start_hour</th>\n",
       "      <th>start_date</th>\n",
       "    </tr>\n",
       "  </thead>\n",
       "  <tbody>\n",
       "    <tr>\n",
       "      <th>1</th>\n",
       "      <td>42847</td>\n",
       "      <td>20:13:45.509000</td>\n",
       "      <td>2018-11-30 20:13:45.509</td>\n",
       "      <td>37.0</td>\n",
       "      <td>2nd St at Folsom St</td>\n",
       "      <td>37.785000</td>\n",
       "      <td>-122.395936</td>\n",
       "      <td>30.0</td>\n",
       "      <td>San Francisco Caltrain (Townsend St at 4th St)</td>\n",
       "      <td>37.776598</td>\n",
       "      <td>-122.395282</td>\n",
       "      <td>2614</td>\n",
       "      <td>Customer</td>\n",
       "      <td>1992.0</td>\n",
       "      <td>Male</td>\n",
       "      <td>No</td>\n",
       "      <td>714.116667</td>\n",
       "      <td>20</td>\n",
       "      <td>2018-11-30</td>\n",
       "    </tr>\n",
       "    <tr>\n",
       "      <th>2</th>\n",
       "      <td>1128</td>\n",
       "      <td>23:58:26.431000</td>\n",
       "      <td>2018-11-30 23:58:26.431</td>\n",
       "      <td>249.0</td>\n",
       "      <td>Russell St at College Ave</td>\n",
       "      <td>37.858473</td>\n",
       "      <td>-122.253253</td>\n",
       "      <td>249.0</td>\n",
       "      <td>Russell St at College Ave</td>\n",
       "      <td>37.858473</td>\n",
       "      <td>-122.253253</td>\n",
       "      <td>1496</td>\n",
       "      <td>Subscriber</td>\n",
       "      <td>1998.0</td>\n",
       "      <td>Male</td>\n",
       "      <td>Yes</td>\n",
       "      <td>18.800000</td>\n",
       "      <td>23</td>\n",
       "      <td>2018-11-30</td>\n",
       "    </tr>\n",
       "    <tr>\n",
       "      <th>3</th>\n",
       "      <td>2476</td>\n",
       "      <td>23:35:06.723000</td>\n",
       "      <td>2018-11-30 23:35:06.723</td>\n",
       "      <td>104.0</td>\n",
       "      <td>4th St at 16th St</td>\n",
       "      <td>37.767045</td>\n",
       "      <td>-122.390833</td>\n",
       "      <td>15.0</td>\n",
       "      <td>San Francisco Ferry Building (Harry Bridges Pl...</td>\n",
       "      <td>37.795392</td>\n",
       "      <td>-122.394203</td>\n",
       "      <td>1334</td>\n",
       "      <td>Subscriber</td>\n",
       "      <td>1959.0</td>\n",
       "      <td>Male</td>\n",
       "      <td>No</td>\n",
       "      <td>41.266667</td>\n",
       "      <td>23</td>\n",
       "      <td>2018-11-30</td>\n",
       "    </tr>\n",
       "    <tr>\n",
       "      <th>4</th>\n",
       "      <td>1273</td>\n",
       "      <td>23:54:12.389000</td>\n",
       "      <td>2018-11-30 23:54:12.389</td>\n",
       "      <td>44.0</td>\n",
       "      <td>Civic Center/UN Plaza BART Station (Market St ...</td>\n",
       "      <td>37.781074</td>\n",
       "      <td>-122.411738</td>\n",
       "      <td>60.0</td>\n",
       "      <td>8th St at Ringold St</td>\n",
       "      <td>37.774520</td>\n",
       "      <td>-122.409449</td>\n",
       "      <td>393</td>\n",
       "      <td>Subscriber</td>\n",
       "      <td>1993.0</td>\n",
       "      <td>Female</td>\n",
       "      <td>Yes</td>\n",
       "      <td>21.216667</td>\n",
       "      <td>23</td>\n",
       "      <td>2018-11-30</td>\n",
       "    </tr>\n",
       "    <tr>\n",
       "      <th>5</th>\n",
       "      <td>2264</td>\n",
       "      <td>23:32:51.320000</td>\n",
       "      <td>2018-11-30 23:32:51.320</td>\n",
       "      <td>92.0</td>\n",
       "      <td>Mission Bay Kids Park</td>\n",
       "      <td>37.772301</td>\n",
       "      <td>-122.393028</td>\n",
       "      <td>34.0</td>\n",
       "      <td>Father Alfred E Boeddeker Park</td>\n",
       "      <td>37.783988</td>\n",
       "      <td>-122.412408</td>\n",
       "      <td>4377</td>\n",
       "      <td>Subscriber</td>\n",
       "      <td>1972.0</td>\n",
       "      <td>Male</td>\n",
       "      <td>Yes</td>\n",
       "      <td>37.733333</td>\n",
       "      <td>23</td>\n",
       "      <td>2018-11-30</td>\n",
       "    </tr>\n",
       "  </tbody>\n",
       "</table>\n",
       "</div>"
      ],
      "text/plain": [
       "   duration_sec       start_time                end_time  start_station_id  \\\n",
       "1         42847  20:13:45.509000 2018-11-30 20:13:45.509              37.0   \n",
       "2          1128  23:58:26.431000 2018-11-30 23:58:26.431             249.0   \n",
       "3          2476  23:35:06.723000 2018-11-30 23:35:06.723             104.0   \n",
       "4          1273  23:54:12.389000 2018-11-30 23:54:12.389              44.0   \n",
       "5          2264  23:32:51.320000 2018-11-30 23:32:51.320              92.0   \n",
       "\n",
       "                                  start_station_name  start_station_latitude  \\\n",
       "1                                2nd St at Folsom St               37.785000   \n",
       "2                          Russell St at College Ave               37.858473   \n",
       "3                                  4th St at 16th St               37.767045   \n",
       "4  Civic Center/UN Plaza BART Station (Market St ...               37.781074   \n",
       "5                              Mission Bay Kids Park               37.772301   \n",
       "\n",
       "   start_station_longitude  end_station_id  \\\n",
       "1              -122.395936            30.0   \n",
       "2              -122.253253           249.0   \n",
       "3              -122.390833            15.0   \n",
       "4              -122.411738            60.0   \n",
       "5              -122.393028            34.0   \n",
       "\n",
       "                                    end_station_name  end_station_latitude  \\\n",
       "1     San Francisco Caltrain (Townsend St at 4th St)             37.776598   \n",
       "2                          Russell St at College Ave             37.858473   \n",
       "3  San Francisco Ferry Building (Harry Bridges Pl...             37.795392   \n",
       "4                               8th St at Ringold St             37.774520   \n",
       "5                     Father Alfred E Boeddeker Park             37.783988   \n",
       "\n",
       "   end_station_longitude  bike_id   user_type  member_birth_year  \\\n",
       "1            -122.395282     2614    Customer             1992.0   \n",
       "2            -122.253253     1496  Subscriber             1998.0   \n",
       "3            -122.394203     1334  Subscriber             1959.0   \n",
       "4            -122.409449      393  Subscriber             1993.0   \n",
       "5            -122.412408     4377  Subscriber             1972.0   \n",
       "\n",
       "  member_gender bike_share_for_all_trip  duration_min  start_hour  start_date  \n",
       "1          Male                      No    714.116667          20  2018-11-30  \n",
       "2          Male                     Yes     18.800000          23  2018-11-30  \n",
       "3          Male                      No     41.266667          23  2018-11-30  \n",
       "4        Female                     Yes     21.216667          23  2018-11-30  \n",
       "5          Male                     Yes     37.733333          23  2018-11-30  "
      ]
     },
     "execution_count": 15,
     "metadata": {},
     "output_type": "execute_result"
    }
   ],
   "source": [
    "# code\n",
    "ford_gobike['start_date'] = pd.to_datetime(ford_gobike['start_time']).dt.date\n",
    "ford_gobike['start_time'] = pd.to_datetime(ford_gobike['start_time']).dt.time\n",
    "# test\n",
    "ford_gobike.head()"
   ]
  },
  {
   "cell_type": "markdown",
   "metadata": {},
   "source": [
    "##### Extract the month column from start date"
   ]
  },
  {
   "cell_type": "code",
   "execution_count": 16,
   "metadata": {
    "scrolled": true
   },
   "outputs": [
    {
     "data": {
      "text/html": [
       "<div>\n",
       "<style scoped>\n",
       "    .dataframe tbody tr th:only-of-type {\n",
       "        vertical-align: middle;\n",
       "    }\n",
       "\n",
       "    .dataframe tbody tr th {\n",
       "        vertical-align: top;\n",
       "    }\n",
       "\n",
       "    .dataframe thead th {\n",
       "        text-align: right;\n",
       "    }\n",
       "</style>\n",
       "<table border=\"1\" class=\"dataframe\">\n",
       "  <thead>\n",
       "    <tr style=\"text-align: right;\">\n",
       "      <th></th>\n",
       "      <th>duration_sec</th>\n",
       "      <th>start_time</th>\n",
       "      <th>end_time</th>\n",
       "      <th>start_station_id</th>\n",
       "      <th>start_station_name</th>\n",
       "      <th>start_station_latitude</th>\n",
       "      <th>start_station_longitude</th>\n",
       "      <th>end_station_id</th>\n",
       "      <th>end_station_name</th>\n",
       "      <th>end_station_latitude</th>\n",
       "      <th>...</th>\n",
       "      <th>user_type</th>\n",
       "      <th>member_birth_year</th>\n",
       "      <th>member_gender</th>\n",
       "      <th>bike_share_for_all_trip</th>\n",
       "      <th>duration_min</th>\n",
       "      <th>start_hour</th>\n",
       "      <th>start_date</th>\n",
       "      <th>start_date2</th>\n",
       "      <th>start_year</th>\n",
       "      <th>start_month</th>\n",
       "    </tr>\n",
       "  </thead>\n",
       "  <tbody>\n",
       "    <tr>\n",
       "      <th>1</th>\n",
       "      <td>42847</td>\n",
       "      <td>20:13:45.509000</td>\n",
       "      <td>2018-11-30 20:13:45.509</td>\n",
       "      <td>37.0</td>\n",
       "      <td>2nd St at Folsom St</td>\n",
       "      <td>37.785000</td>\n",
       "      <td>-122.395936</td>\n",
       "      <td>30.0</td>\n",
       "      <td>San Francisco Caltrain (Townsend St at 4th St)</td>\n",
       "      <td>37.776598</td>\n",
       "      <td>...</td>\n",
       "      <td>Customer</td>\n",
       "      <td>1992.0</td>\n",
       "      <td>Male</td>\n",
       "      <td>No</td>\n",
       "      <td>714.116667</td>\n",
       "      <td>20</td>\n",
       "      <td>2018-11-30</td>\n",
       "      <td>2018-11-30</td>\n",
       "      <td>2018</td>\n",
       "      <td>11</td>\n",
       "    </tr>\n",
       "    <tr>\n",
       "      <th>2</th>\n",
       "      <td>1128</td>\n",
       "      <td>23:58:26.431000</td>\n",
       "      <td>2018-11-30 23:58:26.431</td>\n",
       "      <td>249.0</td>\n",
       "      <td>Russell St at College Ave</td>\n",
       "      <td>37.858473</td>\n",
       "      <td>-122.253253</td>\n",
       "      <td>249.0</td>\n",
       "      <td>Russell St at College Ave</td>\n",
       "      <td>37.858473</td>\n",
       "      <td>...</td>\n",
       "      <td>Subscriber</td>\n",
       "      <td>1998.0</td>\n",
       "      <td>Male</td>\n",
       "      <td>Yes</td>\n",
       "      <td>18.800000</td>\n",
       "      <td>23</td>\n",
       "      <td>2018-11-30</td>\n",
       "      <td>2018-11-30</td>\n",
       "      <td>2018</td>\n",
       "      <td>11</td>\n",
       "    </tr>\n",
       "    <tr>\n",
       "      <th>3</th>\n",
       "      <td>2476</td>\n",
       "      <td>23:35:06.723000</td>\n",
       "      <td>2018-11-30 23:35:06.723</td>\n",
       "      <td>104.0</td>\n",
       "      <td>4th St at 16th St</td>\n",
       "      <td>37.767045</td>\n",
       "      <td>-122.390833</td>\n",
       "      <td>15.0</td>\n",
       "      <td>San Francisco Ferry Building (Harry Bridges Pl...</td>\n",
       "      <td>37.795392</td>\n",
       "      <td>...</td>\n",
       "      <td>Subscriber</td>\n",
       "      <td>1959.0</td>\n",
       "      <td>Male</td>\n",
       "      <td>No</td>\n",
       "      <td>41.266667</td>\n",
       "      <td>23</td>\n",
       "      <td>2018-11-30</td>\n",
       "      <td>2018-11-30</td>\n",
       "      <td>2018</td>\n",
       "      <td>11</td>\n",
       "    </tr>\n",
       "    <tr>\n",
       "      <th>4</th>\n",
       "      <td>1273</td>\n",
       "      <td>23:54:12.389000</td>\n",
       "      <td>2018-11-30 23:54:12.389</td>\n",
       "      <td>44.0</td>\n",
       "      <td>Civic Center/UN Plaza BART Station (Market St ...</td>\n",
       "      <td>37.781074</td>\n",
       "      <td>-122.411738</td>\n",
       "      <td>60.0</td>\n",
       "      <td>8th St at Ringold St</td>\n",
       "      <td>37.774520</td>\n",
       "      <td>...</td>\n",
       "      <td>Subscriber</td>\n",
       "      <td>1993.0</td>\n",
       "      <td>Female</td>\n",
       "      <td>Yes</td>\n",
       "      <td>21.216667</td>\n",
       "      <td>23</td>\n",
       "      <td>2018-11-30</td>\n",
       "      <td>2018-11-30</td>\n",
       "      <td>2018</td>\n",
       "      <td>11</td>\n",
       "    </tr>\n",
       "    <tr>\n",
       "      <th>5</th>\n",
       "      <td>2264</td>\n",
       "      <td>23:32:51.320000</td>\n",
       "      <td>2018-11-30 23:32:51.320</td>\n",
       "      <td>92.0</td>\n",
       "      <td>Mission Bay Kids Park</td>\n",
       "      <td>37.772301</td>\n",
       "      <td>-122.393028</td>\n",
       "      <td>34.0</td>\n",
       "      <td>Father Alfred E Boeddeker Park</td>\n",
       "      <td>37.783988</td>\n",
       "      <td>...</td>\n",
       "      <td>Subscriber</td>\n",
       "      <td>1972.0</td>\n",
       "      <td>Male</td>\n",
       "      <td>Yes</td>\n",
       "      <td>37.733333</td>\n",
       "      <td>23</td>\n",
       "      <td>2018-11-30</td>\n",
       "      <td>2018-11-30</td>\n",
       "      <td>2018</td>\n",
       "      <td>11</td>\n",
       "    </tr>\n",
       "  </tbody>\n",
       "</table>\n",
       "<p>5 rows × 22 columns</p>\n",
       "</div>"
      ],
      "text/plain": [
       "   duration_sec       start_time                end_time  start_station_id  \\\n",
       "1         42847  20:13:45.509000 2018-11-30 20:13:45.509              37.0   \n",
       "2          1128  23:58:26.431000 2018-11-30 23:58:26.431             249.0   \n",
       "3          2476  23:35:06.723000 2018-11-30 23:35:06.723             104.0   \n",
       "4          1273  23:54:12.389000 2018-11-30 23:54:12.389              44.0   \n",
       "5          2264  23:32:51.320000 2018-11-30 23:32:51.320              92.0   \n",
       "\n",
       "                                  start_station_name  start_station_latitude  \\\n",
       "1                                2nd St at Folsom St               37.785000   \n",
       "2                          Russell St at College Ave               37.858473   \n",
       "3                                  4th St at 16th St               37.767045   \n",
       "4  Civic Center/UN Plaza BART Station (Market St ...               37.781074   \n",
       "5                              Mission Bay Kids Park               37.772301   \n",
       "\n",
       "   start_station_longitude  end_station_id  \\\n",
       "1              -122.395936            30.0   \n",
       "2              -122.253253           249.0   \n",
       "3              -122.390833            15.0   \n",
       "4              -122.411738            60.0   \n",
       "5              -122.393028            34.0   \n",
       "\n",
       "                                    end_station_name  end_station_latitude  \\\n",
       "1     San Francisco Caltrain (Townsend St at 4th St)             37.776598   \n",
       "2                          Russell St at College Ave             37.858473   \n",
       "3  San Francisco Ferry Building (Harry Bridges Pl...             37.795392   \n",
       "4                               8th St at Ringold St             37.774520   \n",
       "5                     Father Alfred E Boeddeker Park             37.783988   \n",
       "\n",
       "   ...   user_type  member_birth_year member_gender  bike_share_for_all_trip  \\\n",
       "1  ...    Customer             1992.0          Male                       No   \n",
       "2  ...  Subscriber             1998.0          Male                      Yes   \n",
       "3  ...  Subscriber             1959.0          Male                       No   \n",
       "4  ...  Subscriber             1993.0        Female                      Yes   \n",
       "5  ...  Subscriber             1972.0          Male                      Yes   \n",
       "\n",
       "  duration_min start_hour  start_date  start_date2 start_year start_month  \n",
       "1   714.116667         20  2018-11-30   2018-11-30       2018          11  \n",
       "2    18.800000         23  2018-11-30   2018-11-30       2018          11  \n",
       "3    41.266667         23  2018-11-30   2018-11-30       2018          11  \n",
       "4    21.216667         23  2018-11-30   2018-11-30       2018          11  \n",
       "5    37.733333         23  2018-11-30   2018-11-30       2018          11  \n",
       "\n",
       "[5 rows x 22 columns]"
      ]
     },
     "execution_count": 16,
     "metadata": {},
     "output_type": "execute_result"
    }
   ],
   "source": [
    "# code\n",
    "ford_gobike['start_date2'] =  pd.to_datetime(ford_gobike['start_date'], format='%Y-%m-%d')\n",
    "ford_gobike['start_year'] = ford_gobike['start_date2'].apply(lambda r:r.year).astype(int)\n",
    "ford_gobike['start_month'] = ford_gobike['start_date2'].apply(lambda r:r.month).astype(int)\n",
    "# test\n",
    "ford_gobike.head()"
   ]
  },
  {
   "cell_type": "markdown",
   "metadata": {},
   "source": [
    "##### Get the weekdays column from start time"
   ]
  },
  {
   "cell_type": "code",
   "execution_count": 17,
   "metadata": {
    "scrolled": true
   },
   "outputs": [
    {
     "data": {
      "text/plain": [
       "array(['Fri', 'Thu', 'Wed', 'Tue', 'Mon', 'Sun', 'Sat'], dtype=object)"
      ]
     },
     "execution_count": 17,
     "metadata": {},
     "output_type": "execute_result"
    }
   ],
   "source": [
    "# code\n",
    "ford_gobike['start_weekday'] = ford_gobike.start_date2.dt.strftime('%a')\n",
    "# test\n",
    "ford_gobike['start_weekday'].unique()"
   ]
  },
  {
   "cell_type": "markdown",
   "metadata": {},
   "source": [
    "##### Get customer age on the trip day"
   ]
  },
  {
   "cell_type": "code",
   "execution_count": 18,
   "metadata": {
    "scrolled": false
   },
   "outputs": [
    {
     "data": {
      "text/html": [
       "<div>\n",
       "<style scoped>\n",
       "    .dataframe tbody tr th:only-of-type {\n",
       "        vertical-align: middle;\n",
       "    }\n",
       "\n",
       "    .dataframe tbody tr th {\n",
       "        vertical-align: top;\n",
       "    }\n",
       "\n",
       "    .dataframe thead th {\n",
       "        text-align: right;\n",
       "    }\n",
       "</style>\n",
       "<table border=\"1\" class=\"dataframe\">\n",
       "  <thead>\n",
       "    <tr style=\"text-align: right;\">\n",
       "      <th></th>\n",
       "      <th>duration_sec</th>\n",
       "      <th>start_time</th>\n",
       "      <th>end_time</th>\n",
       "      <th>start_station_id</th>\n",
       "      <th>start_station_name</th>\n",
       "      <th>start_station_latitude</th>\n",
       "      <th>start_station_longitude</th>\n",
       "      <th>end_station_id</th>\n",
       "      <th>end_station_name</th>\n",
       "      <th>end_station_latitude</th>\n",
       "      <th>...</th>\n",
       "      <th>member_gender</th>\n",
       "      <th>bike_share_for_all_trip</th>\n",
       "      <th>duration_min</th>\n",
       "      <th>start_hour</th>\n",
       "      <th>start_date</th>\n",
       "      <th>start_date2</th>\n",
       "      <th>start_year</th>\n",
       "      <th>start_month</th>\n",
       "      <th>start_weekday</th>\n",
       "      <th>user_age</th>\n",
       "    </tr>\n",
       "  </thead>\n",
       "  <tbody>\n",
       "    <tr>\n",
       "      <th>1</th>\n",
       "      <td>42847</td>\n",
       "      <td>20:13:45.509000</td>\n",
       "      <td>2018-11-30 20:13:45.509</td>\n",
       "      <td>37.0</td>\n",
       "      <td>2nd St at Folsom St</td>\n",
       "      <td>37.785000</td>\n",
       "      <td>-122.395936</td>\n",
       "      <td>30.0</td>\n",
       "      <td>San Francisco Caltrain (Townsend St at 4th St)</td>\n",
       "      <td>37.776598</td>\n",
       "      <td>...</td>\n",
       "      <td>Male</td>\n",
       "      <td>No</td>\n",
       "      <td>714.116667</td>\n",
       "      <td>20</td>\n",
       "      <td>2018-11-30</td>\n",
       "      <td>2018-11-30</td>\n",
       "      <td>2018</td>\n",
       "      <td>11</td>\n",
       "      <td>Fri</td>\n",
       "      <td>26</td>\n",
       "    </tr>\n",
       "    <tr>\n",
       "      <th>2</th>\n",
       "      <td>1128</td>\n",
       "      <td>23:58:26.431000</td>\n",
       "      <td>2018-11-30 23:58:26.431</td>\n",
       "      <td>249.0</td>\n",
       "      <td>Russell St at College Ave</td>\n",
       "      <td>37.858473</td>\n",
       "      <td>-122.253253</td>\n",
       "      <td>249.0</td>\n",
       "      <td>Russell St at College Ave</td>\n",
       "      <td>37.858473</td>\n",
       "      <td>...</td>\n",
       "      <td>Male</td>\n",
       "      <td>Yes</td>\n",
       "      <td>18.800000</td>\n",
       "      <td>23</td>\n",
       "      <td>2018-11-30</td>\n",
       "      <td>2018-11-30</td>\n",
       "      <td>2018</td>\n",
       "      <td>11</td>\n",
       "      <td>Fri</td>\n",
       "      <td>20</td>\n",
       "    </tr>\n",
       "    <tr>\n",
       "      <th>3</th>\n",
       "      <td>2476</td>\n",
       "      <td>23:35:06.723000</td>\n",
       "      <td>2018-11-30 23:35:06.723</td>\n",
       "      <td>104.0</td>\n",
       "      <td>4th St at 16th St</td>\n",
       "      <td>37.767045</td>\n",
       "      <td>-122.390833</td>\n",
       "      <td>15.0</td>\n",
       "      <td>San Francisco Ferry Building (Harry Bridges Pl...</td>\n",
       "      <td>37.795392</td>\n",
       "      <td>...</td>\n",
       "      <td>Male</td>\n",
       "      <td>No</td>\n",
       "      <td>41.266667</td>\n",
       "      <td>23</td>\n",
       "      <td>2018-11-30</td>\n",
       "      <td>2018-11-30</td>\n",
       "      <td>2018</td>\n",
       "      <td>11</td>\n",
       "      <td>Fri</td>\n",
       "      <td>59</td>\n",
       "    </tr>\n",
       "    <tr>\n",
       "      <th>4</th>\n",
       "      <td>1273</td>\n",
       "      <td>23:54:12.389000</td>\n",
       "      <td>2018-11-30 23:54:12.389</td>\n",
       "      <td>44.0</td>\n",
       "      <td>Civic Center/UN Plaza BART Station (Market St ...</td>\n",
       "      <td>37.781074</td>\n",
       "      <td>-122.411738</td>\n",
       "      <td>60.0</td>\n",
       "      <td>8th St at Ringold St</td>\n",
       "      <td>37.774520</td>\n",
       "      <td>...</td>\n",
       "      <td>Female</td>\n",
       "      <td>Yes</td>\n",
       "      <td>21.216667</td>\n",
       "      <td>23</td>\n",
       "      <td>2018-11-30</td>\n",
       "      <td>2018-11-30</td>\n",
       "      <td>2018</td>\n",
       "      <td>11</td>\n",
       "      <td>Fri</td>\n",
       "      <td>25</td>\n",
       "    </tr>\n",
       "    <tr>\n",
       "      <th>5</th>\n",
       "      <td>2264</td>\n",
       "      <td>23:32:51.320000</td>\n",
       "      <td>2018-11-30 23:32:51.320</td>\n",
       "      <td>92.0</td>\n",
       "      <td>Mission Bay Kids Park</td>\n",
       "      <td>37.772301</td>\n",
       "      <td>-122.393028</td>\n",
       "      <td>34.0</td>\n",
       "      <td>Father Alfred E Boeddeker Park</td>\n",
       "      <td>37.783988</td>\n",
       "      <td>...</td>\n",
       "      <td>Male</td>\n",
       "      <td>Yes</td>\n",
       "      <td>37.733333</td>\n",
       "      <td>23</td>\n",
       "      <td>2018-11-30</td>\n",
       "      <td>2018-11-30</td>\n",
       "      <td>2018</td>\n",
       "      <td>11</td>\n",
       "      <td>Fri</td>\n",
       "      <td>46</td>\n",
       "    </tr>\n",
       "  </tbody>\n",
       "</table>\n",
       "<p>5 rows × 24 columns</p>\n",
       "</div>"
      ],
      "text/plain": [
       "   duration_sec       start_time                end_time  start_station_id  \\\n",
       "1         42847  20:13:45.509000 2018-11-30 20:13:45.509              37.0   \n",
       "2          1128  23:58:26.431000 2018-11-30 23:58:26.431             249.0   \n",
       "3          2476  23:35:06.723000 2018-11-30 23:35:06.723             104.0   \n",
       "4          1273  23:54:12.389000 2018-11-30 23:54:12.389              44.0   \n",
       "5          2264  23:32:51.320000 2018-11-30 23:32:51.320              92.0   \n",
       "\n",
       "                                  start_station_name  start_station_latitude  \\\n",
       "1                                2nd St at Folsom St               37.785000   \n",
       "2                          Russell St at College Ave               37.858473   \n",
       "3                                  4th St at 16th St               37.767045   \n",
       "4  Civic Center/UN Plaza BART Station (Market St ...               37.781074   \n",
       "5                              Mission Bay Kids Park               37.772301   \n",
       "\n",
       "   start_station_longitude  end_station_id  \\\n",
       "1              -122.395936            30.0   \n",
       "2              -122.253253           249.0   \n",
       "3              -122.390833            15.0   \n",
       "4              -122.411738            60.0   \n",
       "5              -122.393028            34.0   \n",
       "\n",
       "                                    end_station_name  end_station_latitude  \\\n",
       "1     San Francisco Caltrain (Townsend St at 4th St)             37.776598   \n",
       "2                          Russell St at College Ave             37.858473   \n",
       "3  San Francisco Ferry Building (Harry Bridges Pl...             37.795392   \n",
       "4                               8th St at Ringold St             37.774520   \n",
       "5                     Father Alfred E Boeddeker Park             37.783988   \n",
       "\n",
       "   ...  member_gender  bike_share_for_all_trip duration_min  start_hour  \\\n",
       "1  ...           Male                       No   714.116667          20   \n",
       "2  ...           Male                      Yes    18.800000          23   \n",
       "3  ...           Male                       No    41.266667          23   \n",
       "4  ...         Female                      Yes    21.216667          23   \n",
       "5  ...           Male                      Yes    37.733333          23   \n",
       "\n",
       "   start_date start_date2  start_year  start_month start_weekday user_age  \n",
       "1  2018-11-30  2018-11-30        2018           11           Fri       26  \n",
       "2  2018-11-30  2018-11-30        2018           11           Fri       20  \n",
       "3  2018-11-30  2018-11-30        2018           11           Fri       59  \n",
       "4  2018-11-30  2018-11-30        2018           11           Fri       25  \n",
       "5  2018-11-30  2018-11-30        2018           11           Fri       46  \n",
       "\n",
       "[5 rows x 24 columns]"
      ]
     },
     "execution_count": 18,
     "metadata": {},
     "output_type": "execute_result"
    }
   ],
   "source": [
    "# code\n",
    "ford_gobike['user_age'] = ford_gobike['start_year'] - ford_gobike['member_birth_year']\n",
    "ford_gobike['user_age'] = ford_gobike['user_age'].astype(int)\n",
    "# test\n",
    "ford_gobike.head()"
   ]
  },
  {
   "cell_type": "markdown",
   "metadata": {},
   "source": [
    "##### Create users age groups column"
   ]
  },
  {
   "cell_type": "code",
   "execution_count": 19,
   "metadata": {},
   "outputs": [],
   "source": [
    "# code\n",
    "pd.DataFrame(ford_gobike, columns=['user_age'])\n",
    "\n",
    "bins = [18, 23, 28, 33, 38, 43, 48, 53, 58, 63, 68, 73, 78, 83]\n",
    "labels = ['18-22', '23-27', '28-32', '33-37', '38-42', '43-47', '48-52', '53-57', '58-62', '63-67', '68-72', '73-77', '78+']\n",
    "ford_gobike['age_range'] = pd.cut(ford_gobike.user_age, bins, labels = labels,include_lowest = True)"
   ]
  },
  {
   "cell_type": "code",
   "execution_count": 20,
   "metadata": {},
   "outputs": [
    {
     "data": {
      "text/html": [
       "<div>\n",
       "<style scoped>\n",
       "    .dataframe tbody tr th:only-of-type {\n",
       "        vertical-align: middle;\n",
       "    }\n",
       "\n",
       "    .dataframe tbody tr th {\n",
       "        vertical-align: top;\n",
       "    }\n",
       "\n",
       "    .dataframe thead th {\n",
       "        text-align: right;\n",
       "    }\n",
       "</style>\n",
       "<table border=\"1\" class=\"dataframe\">\n",
       "  <thead>\n",
       "    <tr style=\"text-align: right;\">\n",
       "      <th></th>\n",
       "      <th>duration_sec</th>\n",
       "      <th>start_time</th>\n",
       "      <th>end_time</th>\n",
       "      <th>start_station_id</th>\n",
       "      <th>start_station_name</th>\n",
       "      <th>start_station_latitude</th>\n",
       "      <th>start_station_longitude</th>\n",
       "      <th>end_station_id</th>\n",
       "      <th>end_station_name</th>\n",
       "      <th>end_station_latitude</th>\n",
       "      <th>...</th>\n",
       "      <th>bike_share_for_all_trip</th>\n",
       "      <th>duration_min</th>\n",
       "      <th>start_hour</th>\n",
       "      <th>start_date</th>\n",
       "      <th>start_date2</th>\n",
       "      <th>start_year</th>\n",
       "      <th>start_month</th>\n",
       "      <th>start_weekday</th>\n",
       "      <th>user_age</th>\n",
       "      <th>age_range</th>\n",
       "    </tr>\n",
       "  </thead>\n",
       "  <tbody>\n",
       "    <tr>\n",
       "      <th>1</th>\n",
       "      <td>42847</td>\n",
       "      <td>20:13:45.509000</td>\n",
       "      <td>2018-11-30 20:13:45.509</td>\n",
       "      <td>37.0</td>\n",
       "      <td>2nd St at Folsom St</td>\n",
       "      <td>37.785000</td>\n",
       "      <td>-122.395936</td>\n",
       "      <td>30.0</td>\n",
       "      <td>San Francisco Caltrain (Townsend St at 4th St)</td>\n",
       "      <td>37.776598</td>\n",
       "      <td>...</td>\n",
       "      <td>No</td>\n",
       "      <td>714.116667</td>\n",
       "      <td>20</td>\n",
       "      <td>2018-11-30</td>\n",
       "      <td>2018-11-30</td>\n",
       "      <td>2018</td>\n",
       "      <td>11</td>\n",
       "      <td>Fri</td>\n",
       "      <td>26</td>\n",
       "      <td>23-27</td>\n",
       "    </tr>\n",
       "    <tr>\n",
       "      <th>2</th>\n",
       "      <td>1128</td>\n",
       "      <td>23:58:26.431000</td>\n",
       "      <td>2018-11-30 23:58:26.431</td>\n",
       "      <td>249.0</td>\n",
       "      <td>Russell St at College Ave</td>\n",
       "      <td>37.858473</td>\n",
       "      <td>-122.253253</td>\n",
       "      <td>249.0</td>\n",
       "      <td>Russell St at College Ave</td>\n",
       "      <td>37.858473</td>\n",
       "      <td>...</td>\n",
       "      <td>Yes</td>\n",
       "      <td>18.800000</td>\n",
       "      <td>23</td>\n",
       "      <td>2018-11-30</td>\n",
       "      <td>2018-11-30</td>\n",
       "      <td>2018</td>\n",
       "      <td>11</td>\n",
       "      <td>Fri</td>\n",
       "      <td>20</td>\n",
       "      <td>18-22</td>\n",
       "    </tr>\n",
       "    <tr>\n",
       "      <th>3</th>\n",
       "      <td>2476</td>\n",
       "      <td>23:35:06.723000</td>\n",
       "      <td>2018-11-30 23:35:06.723</td>\n",
       "      <td>104.0</td>\n",
       "      <td>4th St at 16th St</td>\n",
       "      <td>37.767045</td>\n",
       "      <td>-122.390833</td>\n",
       "      <td>15.0</td>\n",
       "      <td>San Francisco Ferry Building (Harry Bridges Pl...</td>\n",
       "      <td>37.795392</td>\n",
       "      <td>...</td>\n",
       "      <td>No</td>\n",
       "      <td>41.266667</td>\n",
       "      <td>23</td>\n",
       "      <td>2018-11-30</td>\n",
       "      <td>2018-11-30</td>\n",
       "      <td>2018</td>\n",
       "      <td>11</td>\n",
       "      <td>Fri</td>\n",
       "      <td>59</td>\n",
       "      <td>58-62</td>\n",
       "    </tr>\n",
       "    <tr>\n",
       "      <th>4</th>\n",
       "      <td>1273</td>\n",
       "      <td>23:54:12.389000</td>\n",
       "      <td>2018-11-30 23:54:12.389</td>\n",
       "      <td>44.0</td>\n",
       "      <td>Civic Center/UN Plaza BART Station (Market St ...</td>\n",
       "      <td>37.781074</td>\n",
       "      <td>-122.411738</td>\n",
       "      <td>60.0</td>\n",
       "      <td>8th St at Ringold St</td>\n",
       "      <td>37.774520</td>\n",
       "      <td>...</td>\n",
       "      <td>Yes</td>\n",
       "      <td>21.216667</td>\n",
       "      <td>23</td>\n",
       "      <td>2018-11-30</td>\n",
       "      <td>2018-11-30</td>\n",
       "      <td>2018</td>\n",
       "      <td>11</td>\n",
       "      <td>Fri</td>\n",
       "      <td>25</td>\n",
       "      <td>23-27</td>\n",
       "    </tr>\n",
       "    <tr>\n",
       "      <th>5</th>\n",
       "      <td>2264</td>\n",
       "      <td>23:32:51.320000</td>\n",
       "      <td>2018-11-30 23:32:51.320</td>\n",
       "      <td>92.0</td>\n",
       "      <td>Mission Bay Kids Park</td>\n",
       "      <td>37.772301</td>\n",
       "      <td>-122.393028</td>\n",
       "      <td>34.0</td>\n",
       "      <td>Father Alfred E Boeddeker Park</td>\n",
       "      <td>37.783988</td>\n",
       "      <td>...</td>\n",
       "      <td>Yes</td>\n",
       "      <td>37.733333</td>\n",
       "      <td>23</td>\n",
       "      <td>2018-11-30</td>\n",
       "      <td>2018-11-30</td>\n",
       "      <td>2018</td>\n",
       "      <td>11</td>\n",
       "      <td>Fri</td>\n",
       "      <td>46</td>\n",
       "      <td>43-47</td>\n",
       "    </tr>\n",
       "  </tbody>\n",
       "</table>\n",
       "<p>5 rows × 25 columns</p>\n",
       "</div>"
      ],
      "text/plain": [
       "   duration_sec       start_time                end_time  start_station_id  \\\n",
       "1         42847  20:13:45.509000 2018-11-30 20:13:45.509              37.0   \n",
       "2          1128  23:58:26.431000 2018-11-30 23:58:26.431             249.0   \n",
       "3          2476  23:35:06.723000 2018-11-30 23:35:06.723             104.0   \n",
       "4          1273  23:54:12.389000 2018-11-30 23:54:12.389              44.0   \n",
       "5          2264  23:32:51.320000 2018-11-30 23:32:51.320              92.0   \n",
       "\n",
       "                                  start_station_name  start_station_latitude  \\\n",
       "1                                2nd St at Folsom St               37.785000   \n",
       "2                          Russell St at College Ave               37.858473   \n",
       "3                                  4th St at 16th St               37.767045   \n",
       "4  Civic Center/UN Plaza BART Station (Market St ...               37.781074   \n",
       "5                              Mission Bay Kids Park               37.772301   \n",
       "\n",
       "   start_station_longitude  end_station_id  \\\n",
       "1              -122.395936            30.0   \n",
       "2              -122.253253           249.0   \n",
       "3              -122.390833            15.0   \n",
       "4              -122.411738            60.0   \n",
       "5              -122.393028            34.0   \n",
       "\n",
       "                                    end_station_name  end_station_latitude  \\\n",
       "1     San Francisco Caltrain (Townsend St at 4th St)             37.776598   \n",
       "2                          Russell St at College Ave             37.858473   \n",
       "3  San Francisco Ferry Building (Harry Bridges Pl...             37.795392   \n",
       "4                               8th St at Ringold St             37.774520   \n",
       "5                     Father Alfred E Boeddeker Park             37.783988   \n",
       "\n",
       "   ...  bike_share_for_all_trip  duration_min start_hour  start_date  \\\n",
       "1  ...                       No    714.116667         20  2018-11-30   \n",
       "2  ...                      Yes     18.800000         23  2018-11-30   \n",
       "3  ...                       No     41.266667         23  2018-11-30   \n",
       "4  ...                      Yes     21.216667         23  2018-11-30   \n",
       "5  ...                      Yes     37.733333         23  2018-11-30   \n",
       "\n",
       "  start_date2 start_year  start_month  start_weekday user_age age_range  \n",
       "1  2018-11-30       2018           11            Fri       26     23-27  \n",
       "2  2018-11-30       2018           11            Fri       20     18-22  \n",
       "3  2018-11-30       2018           11            Fri       59     58-62  \n",
       "4  2018-11-30       2018           11            Fri       25     23-27  \n",
       "5  2018-11-30       2018           11            Fri       46     43-47  \n",
       "\n",
       "[5 rows x 25 columns]"
      ]
     },
     "execution_count": 20,
     "metadata": {},
     "output_type": "execute_result"
    }
   ],
   "source": [
    "#test\n",
    "ford_gobike.head()"
   ]
  },
  {
   "cell_type": "markdown",
   "metadata": {},
   "source": [
    "##### Calculate approx trip duration by latitude and longtitude"
   ]
  },
  {
   "cell_type": "code",
   "execution_count": 21,
   "metadata": {},
   "outputs": [],
   "source": [
    "# code\n",
    "def distance_calculation(ford_gobike):\n",
    "    #Thus, the implied \"official\" circumference is 360 degrees times 60 minutes/degree times 1.852 km/minute = 40003.2 km. The implied radius is the circumference divided by 2 pi: R = 6367 km \n",
    "    R = 6373.0 \n",
    "\n",
    "    lat1 = radians(ford_gobike['start_station_latitude'])\n",
    "    lon1 = radians(ford_gobike['start_station_longitude'])\n",
    "    lat2 = radians(ford_gobike['end_station_latitude'])\n",
    "    lon2 = radians(ford_gobike['end_station_longitude'])\n",
    "\n",
    "# using Deriving the Haversine Formula\n",
    "    dlon = lon2 - lon1\n",
    "    dlat = lat2 - lat1\n",
    "    a = (sin(dlat/2))**2 + cos(lat1) * cos(lat2) * (sin(dlon/2))**2\n",
    "    c = 2 * atan2(sqrt(a), sqrt(1-a))\n",
    "    return R * c\n",
    "\n",
    "ford_gobike['distance'] = ford_gobike.apply(distance_calculation, axis=1)"
   ]
  },
  {
   "cell_type": "code",
   "execution_count": 22,
   "metadata": {},
   "outputs": [
    {
     "data": {
      "text/plain": [
       "51969"
      ]
     },
     "execution_count": 22,
     "metadata": {},
     "output_type": "execute_result"
    }
   ],
   "source": [
    "(ford_gobike.distance ==0).sum()"
   ]
  },
  {
   "cell_type": "code",
   "execution_count": 23,
   "metadata": {},
   "outputs": [],
   "source": [
    "ford_gobike = ford_gobike[ford_gobike.distance !=0]"
   ]
  },
  {
   "cell_type": "code",
   "execution_count": 24,
   "metadata": {},
   "outputs": [
    {
     "data": {
      "text/plain": [
       "count    2.109137e+06\n",
       "mean     1.800562e+00\n",
       "std      3.842420e+01\n",
       "min      1.329149e-02\n",
       "25%      9.279180e-01\n",
       "50%      1.426658e+00\n",
       "75%      2.173342e+00\n",
       "max      1.280236e+04\n",
       "Name: distance, dtype: float64"
      ]
     },
     "execution_count": 24,
     "metadata": {},
     "output_type": "execute_result"
    }
   ],
   "source": [
    "# test\n",
    "ford_gobike['distance'].describe()"
   ]
  },
  {
   "cell_type": "markdown",
   "metadata": {},
   "source": [
    "##### Calculate approx trip speed km/h"
   ]
  },
  {
   "cell_type": "code",
   "execution_count": 25,
   "metadata": {},
   "outputs": [],
   "source": [
    "# code\n",
    "ford_gobike['speed km/h'] = round(ford_gobike['distance']/(ford_gobike['duration_min']/60),2)"
   ]
  },
  {
   "cell_type": "code",
   "execution_count": 26,
   "metadata": {},
   "outputs": [
    {
     "data": {
      "text/plain": [
       "11.17    2842\n",
       "10.56    2817\n",
       "9.96     2817\n",
       "9.77     2812\n",
       "10.06    2812\n",
       "         ... \n",
       "26.01       1\n",
       "26.49       1\n",
       "26.26       1\n",
       "26.51       1\n",
       "27.66       1\n",
       "Name: speed km/h, Length: 2562, dtype: int64"
      ]
     },
     "execution_count": 26,
     "metadata": {},
     "output_type": "execute_result"
    }
   ],
   "source": [
    "# test\n",
    "ford_gobike['speed km/h'].value_counts()"
   ]
  },
  {
   "cell_type": "markdown",
   "metadata": {},
   "source": [
    "##### Drop unneccassary variables"
   ]
  },
  {
   "cell_type": "code",
   "execution_count": 27,
   "metadata": {},
   "outputs": [],
   "source": [
    "ford_gobike.drop(columns = ['bike_share_for_all_trip','end_time',\n",
    "                 'start_station_id','end_station_id',\n",
    "                'start_station_latitude', 'start_station_longitude', 'end_station_latitude',\n",
    "                 'end_station_longitude', 'start_date', 'bike_id',\n",
    "                 'start_station_name', 'end_station_name', 'member_birth_year'], inplace=True, axis=1)"
   ]
  },
  {
   "cell_type": "code",
   "execution_count": 28,
   "metadata": {},
   "outputs": [
    {
     "name": "stdout",
     "output_type": "stream",
     "text": [
      "<class 'pandas.core.frame.DataFrame'>\n",
      "Int64Index: 2109137 entries, 1 to 2290553\n",
      "Data columns (total 14 columns):\n",
      " #   Column         Dtype         \n",
      "---  ------         -----         \n",
      " 0   duration_sec   int64         \n",
      " 1   start_time     object        \n",
      " 2   user_type      object        \n",
      " 3   member_gender  object        \n",
      " 4   duration_min   float64       \n",
      " 5   start_hour     int64         \n",
      " 6   start_date2    datetime64[ns]\n",
      " 7   start_year     int64         \n",
      " 8   start_month    int64         \n",
      " 9   start_weekday  object        \n",
      " 10  user_age       int64         \n",
      " 11  age_range      category      \n",
      " 12  distance       float64       \n",
      " 13  speed km/h     float64       \n",
      "dtypes: category(1), datetime64[ns](1), float64(3), int64(5), object(4)\n",
      "memory usage: 227.3+ MB\n"
     ]
    }
   ],
   "source": [
    "# test\n",
    "ford_gobike.info()"
   ]
  },
  {
   "cell_type": "markdown",
   "metadata": {},
   "source": [
    "##### Create cleaned and adjusted new csv file"
   ]
  },
  {
   "cell_type": "code",
   "execution_count": 29,
   "metadata": {},
   "outputs": [],
   "source": [
    "# code\n",
    "ford_gobike.to_csv('fordgo_final.csv', index = False)"
   ]
  },
  {
   "cell_type": "markdown",
   "metadata": {},
   "source": [
    "## Univariate Exploration\n",
    "\n",
    "> In this section, investigate distributions of individual variables. "
   ]
  },
  {
   "cell_type": "markdown",
   "metadata": {},
   "source": [
    "### Exploration of TIME variables "
   ]
  },
  {
   "cell_type": "markdown",
   "metadata": {},
   "source": [
    "> I'll start by looking at the distribution of the customer age."
   ]
  },
  {
   "cell_type": "code",
   "execution_count": 30,
   "metadata": {},
   "outputs": [
    {
     "data": {
      "image/png": "[encoded data removed]",
      "text/plain": [
       "<Figure size 360x360 with 1 Axes>"
      ]
     },
     "metadata": {
      "needs_background": "light"
     },
     "output_type": "display_data"
    }
   ],
   "source": [
    "sb.catplot(data=ford_gobike, x='start_hour', kind='count', color = sb.color_palette()[8])\n",
    "plt.title('Count of trips by day hours')\n",
    "plt.xlabel('Time (hours)')\n",
    "plt.ylabel('Trip Frequency(count)')\n",
    "plt.show();"
   ]
  },
  {
   "cell_type": "markdown",
   "metadata": {},
   "source": [
    "> Trip start hour distribution looks roughly bimodal, with one peak between 7 and 9 hours, and a second peak between 16 and 19 hour which are a little higher. It shows that bikes are used before and after the working hour. Customers used bikes to travel to work and back.\n",
    "\n",
    "Next up, the trip distribution on weekdays."
   ]
  },
  {
   "cell_type": "code",
   "execution_count": 31,
   "metadata": {
    "scrolled": true
   },
   "outputs": [
    {
     "data": {
      "image/png": "[encoded data removed]",
      "text/plain": [
       "<Figure size 720x360 with 1 Axes>"
      ]
     },
     "metadata": {
      "needs_background": "light"
     },
     "output_type": "display_data"
    }
   ],
   "source": [
    "plt.figure(figsize=[10, 5])\n",
    "order_d = ['Mon', 'Tue', 'Wed', 'Thu', 'Fri', 'Sat', 'Sun']\n",
    "sb.countplot(data=ford_gobike, x='start_weekday', color = sb.color_palette()[8], order = order_d);\n",
    "plt.title('Count of trips on the weekdays')\n",
    "plt.xlabel('Weekday')\n",
    "plt.ylabel('Count')\n",
    "plt.show();"
   ]
  },
  {
   "cell_type": "markdown",
   "metadata": {},
   "source": [
    ">Trip start weekday distributions are similar on working days but on weekends are followed down almost twice. The visualisation below proves that customers use bikes mostly on weekdays.\n",
    "\n",
    "Next up, the trip distribution by monthly."
   ]
  },
  {
   "cell_type": "code",
   "execution_count": 32,
   "metadata": {
    "scrolled": false
   },
   "outputs": [
    {
     "data": {
      "image/png": "[encoded data removed]",
      "text/plain": [
       "<Figure size 720x360 with 1 Axes>"
      ]
     },
     "metadata": {
      "needs_background": "light"
     },
     "output_type": "display_data"
    }
   ],
   "source": [
    "plt.figure(figsize=[10, 5])\n",
    "sb.countplot(data=ford_gobike, x='start_month', color = sb.color_palette()[8]);\n",
    "plt.title('Count of trips on the months during 2018-05 untill 2019-04')\n",
    "plt.xlabel('Month')\n",
    "plt.ylabel('Frequency(count)')\n",
    "plt.show();"
   ]
  },
  {
   "cell_type": "markdown",
   "metadata": {},
   "source": [
    "> Trip count on start month distribution is highest in March, April and October and lowest in November and December.\n",
    "\n",
    "Next below, all three plots displayed together."
   ]
  },
  {
   "cell_type": "code",
   "execution_count": 33,
   "metadata": {},
   "outputs": [
    {
     "data": {
      "image/png": "[encoded data removed]",
      "text/plain": [
       "<Figure size 1440x360 with 3 Axes>"
      ]
     },
     "metadata": {
      "needs_background": "light"
     },
     "output_type": "display_data"
    }
   ],
   "source": [
    "plt.figure(figsize = [20, 5])\n",
    "\n",
    "plt.subplot(1, 3, 1)\n",
    "sb.countplot(data=ford_gobike, x='start_hour', color = sb.color_palette()[8]);\n",
    "plt.title('The most frequent user gender')\n",
    "plt.xlabel('Time (hours)')\n",
    "plt.ylabel('Trip Frequency(count)')\n",
    "\n",
    "plt.subplot(1, 3, 2)\n",
    "order_d = ['Mon', 'Tue', 'Wed', 'Thu', 'Fri', 'Sat', 'Sun']\n",
    "sb.countplot(data=ford_gobike, x='start_weekday', color = sb.color_palette()[8], order = order_d);\n",
    "plt.title('Count of trips on the weekdays')\n",
    "plt.xlabel('Weekday')\n",
    "plt.ylabel('Trip Frequency(count)')\n",
    "\n",
    "plt.subplot(1, 3, 3)\n",
    "sb.countplot(data=ford_gobike, x='start_month', color = sb.color_palette()[8]);\n",
    "plt.title('Count of trips on the months during 2018-05 untill 2019-04')\n",
    "plt.xlabel('Month')\n",
    "plt.ylabel('Trip Frequency(count)')\n",
    "plt.show();"
   ]
  },
  {
   "cell_type": "markdown",
   "metadata": {},
   "source": [
    "> From the above figure plots we can make final trip frequency distribution by time variables. So we could say that the most customers use bikes  at 8 and 17 hour, during workdays and in March and April months.\n",
    "\n",
    "Next up, exploration of Customer variables."
   ]
  },
  {
   "cell_type": "markdown",
   "metadata": {},
   "source": [
    "### Exploration of USER variables "
   ]
  },
  {
   "cell_type": "code",
   "execution_count": 34,
   "metadata": {
    "scrolled": true
   },
   "outputs": [
    {
     "data": {
      "text/plain": [
       "30     120591\n",
       "31     112223\n",
       "29     104386\n",
       "28     102789\n",
       "27      97012\n",
       "25      96681\n",
       "26      95346\n",
       "32      95053\n",
       "33      93856\n",
       "34      83654\n",
       "24      82194\n",
       "35      77802\n",
       "36      71820\n",
       "23      63780\n",
       "37      60224\n",
       "38      56513\n",
       "39      49838\n",
       "22      44232\n",
       "40      42798\n",
       "41      42068\n",
       "21      35257\n",
       "42      35122\n",
       "43      34207\n",
       "44      31180\n",
       "45      29083\n",
       "46      27074\n",
       "47      26661\n",
       "20      26005\n",
       "50      23289\n",
       "48      22433\n",
       "49      21456\n",
       "51      20367\n",
       "53      19738\n",
       "19      17001\n",
       "54      16187\n",
       "55      15482\n",
       "52      15067\n",
       "56      14061\n",
       "57      12609\n",
       "58      10946\n",
       "59       9726\n",
       "60       8333\n",
       "61       6678\n",
       "62       6380\n",
       "18       5106\n",
       "64       3782\n",
       "63       3699\n",
       "66       3357\n",
       "65       2737\n",
       "68       1928\n",
       "67       1873\n",
       "69       1653\n",
       "70       1137\n",
       "71       1029\n",
       "73        891\n",
       "74        648\n",
       "72        633\n",
       "118       468\n",
       "76        464\n",
       "75        317\n",
       "88        313\n",
       "87        238\n",
       "119       221\n",
       "77        190\n",
       "85        167\n",
       "82        136\n",
       "86        105\n",
       "107       100\n",
       "83         93\n",
       "116        83\n",
       "98         81\n",
       "78         76\n",
       "117        71\n",
       "84         60\n",
       "80         49\n",
       "123        35\n",
       "94         30\n",
       "79         24\n",
       "99         23\n",
       "130        22\n",
       "104        18\n",
       "81         14\n",
       "92         13\n",
       "114        11\n",
       "91          9\n",
       "115         7\n",
       "141         7\n",
       "137         5\n",
       "96          4\n",
       "109         2\n",
       "129         2\n",
       "112         1\n",
       "108         1\n",
       "133         1\n",
       "89          1\n",
       "Name: user_age, dtype: int64"
      ]
     },
     "execution_count": 34,
     "metadata": {},
     "output_type": "execute_result"
    }
   ],
   "source": [
    "pd.set_option('display.max_rows', 1000)\n",
    "ford_gobike['user_age'].value_counts()"
   ]
  },
  {
   "cell_type": "markdown",
   "metadata": {},
   "source": [
    ">For user age, there are some false ages provided as there are ages until 141 years.\n",
    " I will eliminate the ages who are 2.5 times higher than the mean."
   ]
  },
  {
   "cell_type": "code",
   "execution_count": 35,
   "metadata": {},
   "outputs": [],
   "source": [
    "# dropping false age entries\n",
    "ford_gobike = ford_gobike.drop(ford_gobike.index[(ford_gobike['user_age'] > (2.5*ford_gobike['user_age'].mean()))])"
   ]
  },
  {
   "cell_type": "code",
   "execution_count": 36,
   "metadata": {},
   "outputs": [
    {
     "data": {
      "text/plain": [
       "array([26, 59, 25, 46, 27, 30, 32, 50, 33, 45, 24, 31, 22, 37, 23, 34, 38,\n",
       "       41, 51, 36, 47, 29, 52, 42, 73, 53, 48, 28, 20, 35, 39, 44, 65, 21,\n",
       "       58, 40, 68, 19, 54, 56, 43, 55, 49, 18, 66, 64, 57, 70, 60, 61, 62,\n",
       "       69, 76, 63, 67, 71, 75, 77, 85, 83, 72, 80, 74, 78, 86, 84, 81, 79,\n",
       "       82])"
      ]
     },
     "execution_count": 36,
     "metadata": {},
     "output_type": "execute_result"
    }
   ],
   "source": [
    "# review current age values\n",
    "ford_gobike['user_age'].unique()"
   ]
  },
  {
   "cell_type": "code",
   "execution_count": 37,
   "metadata": {},
   "outputs": [
    {
     "data": {
      "image/png": "[encoded data removed]",
      "text/plain": [
       "<Figure size 720x360 with 1 Axes>"
      ]
     },
     "metadata": {
      "needs_background": "light"
     },
     "output_type": "display_data"
    }
   ],
   "source": [
    "binsize = 5\n",
    "bins = np.arange(15, ford_gobike['user_age'].max()+binsize, binsize)\n",
    "\n",
    "plt.figure(figsize=[10, 5])\n",
    "plt.hist(data = ford_gobike, x = 'user_age', bins = bins, color = 'teal')\n",
    "ticks = [15, 20, 25, 30, 35, 40, 45, 50, 55, 60, 65, 70, 75, 80, 85]\n",
    "\n",
    "labels = ['{}'.format(val) for val in ticks]\n",
    "plt.xticks(ticks, labels)\n",
    "\n",
    "plt.title('Count of trips per customer age')\n",
    "plt.xlabel('User age')\n",
    "plt.ylabel('Trip Frequency(count)')\n",
    "plt.show();"
   ]
  },
  {
   "cell_type": "markdown",
   "metadata": {},
   "source": [
    "> The customer age distribution histogram shows that the most of the customers are between 25 and 35 years old.\n",
    "\n",
    "Next, I will look at the trip frequency by the customer's gender."
   ]
  },
  {
   "cell_type": "code",
   "execution_count": 38,
   "metadata": {
    "scrolled": false
   },
   "outputs": [
    {
     "data": {
      "image/png": "[encoded data removed]",
      "text/plain": [
       "<Figure size 720x360 with 1 Axes>"
      ]
     },
     "metadata": {
      "needs_background": "light"
     },
     "output_type": "display_data"
    }
   ],
   "source": [
    "plt.figure(figsize=[10, 5])\n",
    "sb.countplot(data=ford_gobike, y='member_gender', palette = 'Set3');\n",
    "plt.title('The most frequent user gender')\n",
    "plt.xlabel('User gender')\n",
    "plt.ylabel('Trip Frequency(count)')\n",
    "plt.show();\n",
    "\n",
    "#color = sb.color_palette()[9]"
   ]
  },
  {
   "cell_type": "markdown",
   "metadata": {},
   "source": [
    ">Based on the above countplot we can clearly observe that the male customers are using Ford GoBikes 3 times more than women.\n",
    "\n",
    "Next up, customers distribution by customer type."
   ]
  },
  {
   "cell_type": "code",
   "execution_count": 39,
   "metadata": {
    "scrolled": false
   },
   "outputs": [
    {
     "data": {
      "image/png": "[encoded data removed]",
      "text/plain": [
       "<Figure size 864x432 with 2 Axes>"
      ]
     },
     "metadata": {
      "needs_background": "light"
     },
     "output_type": "display_data"
    }
   ],
   "source": [
    "user_type_counts = ford_gobike['user_type'].value_counts()\n",
    "\n",
    "plt.figure(figsize=[12, 6])\n",
    "\n",
    "plt.subplot(1, 2, 1)\n",
    "user_type_counts = ford_gobike['user_type'].value_counts()\n",
    "sb.barplot(user_type_counts.index, user_type_counts)\n",
    "plt.xticks(rotation=90)\n",
    "\n",
    "for i in range (user_type_counts.shape[0]):\n",
    "    count = user_type_counts[i]\n",
    "    plt.text(i, count+1, count, ha = 'center', va= 'baseline', fontsize=12)\n",
    "\n",
    "#data=ford_gobike, x='user_type', color = sb.color_palette()[2]);\n",
    "plt.title('The most frequent user type')\n",
    "plt.xlabel('User type')\n",
    "plt.ylabel('Trip Frequency(count)')\n",
    "\n",
    "plt.subplot(1, 2, 2)\n",
    "plt.pie(user_type_counts, startangle = 30, autopct='%1.1f%%', pctdistance=0.75, labels=['Customer', 'Subscriber'], textprops={'color':'white'}, counterclock = False, wedgeprops = {'width' : 0.5});\n",
    "plt.axis('square');\n",
    "plt.title(\"Percentage of Trips by User Type\")\n",
    "plt.legend()\n",
    "plt.show();"
   ]
  },
  {
   "cell_type": "markdown",
   "metadata": {},
   "source": [
    "> From two plots we can see that most bike users are subscribers and just small slides are random customers. Probably the local people are most likely subscribers and tourists are customers.\n",
    "\n",
    "Next below, exploration of travel variables."
   ]
  },
  {
   "cell_type": "markdown",
   "metadata": {},
   "source": [
    "### Exploration of TRAVEL variables"
   ]
  },
  {
   "cell_type": "code",
   "execution_count": 40,
   "metadata": {},
   "outputs": [
    {
     "data": {
      "image/png": "[encoded data removed]",
      "text/plain": [
       "<Figure size 720x360 with 1 Axes>"
      ]
     },
     "metadata": {
      "needs_background": "light"
     },
     "output_type": "display_data"
    }
   ],
   "source": [
    "# start with a standard-scaled plot\n",
    "binsize = 0.01\n",
    "bins = np.arange(0, 10, 0.05)\n",
    "plt.figure(figsize=[10, 5])\n",
    "plt.hist(data = ford_gobike, x = 'distance', bins = bins, color = 'olivedrab')\n",
    "\n",
    "plt.title('The most frequent trip distance')\n",
    "plt.xlabel('Trip distance km')\n",
    "plt.ylabel('Trip Frequency(count)')\n",
    "plt.show();"
   ]
  },
  {
   "cell_type": "markdown",
   "metadata": {},
   "source": [
    ">Trip distance (km) has a long-tailed distribution. The distance distribution have peak between 0.5 and 1.5 km. Most of the customers have short distance trips.\n",
    "\n",
    "Next up, trip duration (min) distribution."
   ]
  },
  {
   "cell_type": "code",
   "execution_count": 41,
   "metadata": {},
   "outputs": [
    {
     "data": {
      "image/png": "[encoded data removed]",
      "text/plain": [
       "<Figure size 720x360 with 1 Axes>"
      ]
     },
     "metadata": {
      "needs_background": "light"
     },
     "output_type": "display_data"
    }
   ],
   "source": [
    "# start with a standard-scaled plot\n",
    "binsize = 1\n",
    "bins = np.arange(0, 100, 1/2)\n",
    "plt.figure(figsize=[10, 5])\n",
    "plt.hist(data = ford_gobike, x = 'duration_min', bins = bins, color = 'slategrey')\n",
    "\n",
    "plt.title('The most frequent trip duration')\n",
    "plt.xlabel('Trip Duration min')\n",
    "plt.ylabel('Trip Frequency(count)')\n",
    "plt.show();"
   ]
  },
  {
   "cell_type": "markdown",
   "metadata": {},
   "source": [
    "> From the above histogram we can see that the duration distribution is long-tailed with the peak around 5 minutes. Most of the trips take 5- 10 minutes.\n",
    "\n",
    "Next up, trip speed distribution. "
   ]
  },
  {
   "cell_type": "code",
   "execution_count": 42,
   "metadata": {},
   "outputs": [
    {
     "data": {
      "image/png": "[encoded data removed]",
      "text/plain": [
       "<Figure size 720x360 with 1 Axes>"
      ]
     },
     "metadata": {
      "needs_background": "light"
     },
     "output_type": "display_data"
    }
   ],
   "source": [
    "binsize = 0.01\n",
    "bins = np.arange(0, 25, 0.05)\n",
    "plt.figure(figsize=[10, 5])\n",
    "plt.hist(data = ford_gobike, x = 'speed km/h', bins = bins, color = 'orchid')\n",
    "\n",
    "plt.title('The most frequent trip speed km/h')\n",
    "plt.xlabel('Trip speed km/h')\n",
    "plt.ylabel('Trip Frequency(count)')\n",
    "plt.show();"
   ]
  },
  {
   "cell_type": "markdown",
   "metadata": {},
   "source": [
    "> Based on histogram the bike trip speeds are most frequent to be at 10 km/h speed."
   ]
  },
  {
   "cell_type": "markdown",
   "metadata": {},
   "source": [
    "### Discuss the distribution(s) of your variable(s) of interest. Were there any unusual points? Did you need to perform any transformations?\n",
    "\n",
    "- Exploration of time variables showed that customers used bikes most for travel to work and back on the workdays. The most interesting discovery, that bikes are used most during the spring and autumn season. \n",
    "\n",
    "- Exploration of customer variables showed that customers are mostly young men between 25 and 35 who are locals and have Ford GoBikes subscriptions. Surprising fact that men are using bikes  3 times more than womens.\n",
    "\n",
    "- Exploration of travel variables shows that customers usually have short trips and use small speed.\n",
    "\n",
    "\n",
    "### Of the features you investigated, were there any unusual distributions? Did you perform any operations on the data to tidy, adjust, or change the form of the data? If so, why did you do this?\n",
    "\n",
    "- For customer age, there was some false ages provided as there are ages until 141 years. I have eliminate the ages who are 2.5 times higher than the mean.\n",
    "\n",
    "- The trip duration, distance and speed had long tales so I selected a range of data to elimite the tales  to have a better visualization."
   ]
  }
 ],
 "metadata": {
  "kernelspec": {
   "display_name": "Python 3",
   "language": "python",
   "name": "python3"
  },
  "language_info": {
   "codemirror_mode": {
    "name": "ipython",
    "version": 3
   },
   "file_extension": ".py",
   "mimetype": "text/x-python",
   "name": "python",
   "nbconvert_exporter": "python",
   "pygments_lexer": "ipython3",
   "version": "3.7.6"
  }
 },
 "nbformat": 4,
 "nbformat_minor": 2
}
